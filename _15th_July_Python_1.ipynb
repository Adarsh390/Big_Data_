{
 "cells": [
  {
   "cell_type": "code",
   "execution_count": 1,
   "metadata": {},
   "outputs": [
    {
     "name": "stdout",
     "output_type": "stream",
     "text": [
      "listen and silent are anagrams.\n"
     ]
    }
   ],
   "source": [
    "# 1 :Write a Python program to check if a given string is an anagram.\n",
    "#Sol:\n",
    "def is_anagram(str1, str2):\n",
    "    # Remove any whitespace and convert both strings to lowercase\n",
    "    str1 = str1.replace(\" \", \"\").lower()\n",
    "    str2 = str2.replace(\" \", \"\").lower()\n",
    "\n",
    "    # Check if the lengths of the strings are equal\n",
    "    if len(str1) != len(str2):\n",
    "        return False\n",
    "\n",
    "    # Sort both strings and compare them\n",
    "    sorted_str1 = sorted(str1)\n",
    "    sorted_str2 = sorted(str2)\n",
    "\n",
    "    if sorted_str1 == sorted_str2:\n",
    "        return True\n",
    "    else:\n",
    "        return False\n",
    "\n",
    "# Example usage\n",
    "string1 = \"listen\"\n",
    "string2 = \"silent\"\n",
    "if is_anagram(string1, string2):\n",
    "    print(f\"{string1} and {string2} are anagrams.\")\n",
    "else:\n",
    "    print(f\"{string1} and {string2} are not anagrams.\")\n",
    "\n"
   ]
  },
  {
   "cell_type": "code",
   "execution_count": 2,
   "metadata": {},
   "outputs": [
    {
     "name": "stdout",
     "output_type": "stream",
     "text": [
      "Maximum value: 15\n",
      "Minimum value: 3\n"
     ]
    }
   ],
   "source": [
    "# 2. Write a Python program to find the maximum and minimum values in a dictionary.\n",
    "#Sol:\n",
    "def find_max_min_values(dictionary):\n",
    "    if len(dictionary) == 0:\n",
    "        return None, None\n",
    "\n",
    "    max_value = float('-inf')  # Initialize with negative infinity\n",
    "    min_value = float('inf')   # Initialize with positive infinity\n",
    "\n",
    "    for value in dictionary.values():\n",
    "        if value > max_value:\n",
    "            max_value = value\n",
    "        if value < min_value:\n",
    "            min_value = value\n",
    "\n",
    "    return max_value, min_value\n",
    "\n",
    "# Example usage\n",
    "my_dict = {'a': 10, 'b': 5, 'c': 15, 'd': 3}\n",
    "max_value, min_value = find_max_min_values(my_dict)\n",
    "\n",
    "if max_value is not None and min_value is not None:\n",
    "    print(f\"Maximum value: {max_value}\")\n",
    "    print(f\"Minimum value: {min_value}\")\n",
    "else:\n",
    "    print(\"The dictionary is empty.\")\n"
   ]
  },
  {
   "cell_type": "code",
   "execution_count": 3,
   "metadata": {},
   "outputs": [
    {
     "name": "stdout",
     "output_type": "stream",
     "text": [
      "The average is: 6.0\n"
     ]
    }
   ],
   "source": [
    "# 3. Write a Python program to find the average of a list of numbers.\n",
    "# Sol:\n",
    "def calculate_average(numbers):\n",
    "    if len(numbers) == 0:\n",
    "        return None\n",
    "\n",
    "    total = sum(numbers)\n",
    "    average = total / len(numbers)\n",
    "    return average\n",
    "\n",
    "# Example usage\n",
    "num_list = [2, 4, 6, 8, 10]\n",
    "avg = calculate_average(num_list)\n",
    "\n",
    "if avg is not None:\n",
    "    print(f\"The average is: {avg}\")\n",
    "else:\n",
    "    print(\"The list is empty.\")\n",
    "\n"
   ]
  },
  {
   "cell_type": "code",
   "execution_count": 4,
   "metadata": {},
   "outputs": [
    {
     "name": "stdout",
     "output_type": "stream",
     "text": [
      "Hll, Wrld!\n"
     ]
    }
   ],
   "source": [
    "# 4. Write a Python program to remove all vowels from a string.\n",
    "# Sol:\n",
    "def remove_vowels(string):\n",
    "    vowels = \"aeiouAEIOU\"\n",
    "    without_vowels = \"\"\n",
    "\n",
    "    for char in string:\n",
    "        if char not in vowels:\n",
    "            without_vowels += char\n",
    "\n",
    "    return without_vowels\n",
    "\n",
    "# Example usage\n",
    "input_string = \"Hello, World!\"\n",
    "result = remove_vowels(input_string)\n",
    "print(result)\n"
   ]
  },
  {
   "cell_type": "code",
   "execution_count": 5,
   "metadata": {},
   "outputs": [
    {
     "name": "stdout",
     "output_type": "stream",
     "text": [
      "120\n"
     ]
    }
   ],
   "source": [
    "# 5. Write a Python function to calculate the factorial of a number using recursion.\n",
    "#sol:\n",
    "def facto(n):\n",
    "    if(n==0 or n==1):\n",
    "        return 1\n",
    "    else:\n",
    "        return n*facto(n-1)\n",
    "print(facto(5))"
   ]
  },
  {
   "cell_type": "code",
   "execution_count": 6,
   "metadata": {},
   "outputs": [
    {
     "name": "stdout",
     "output_type": "stream",
     "text": [
      "[1, 2, 3, 4, 5, 6, 8, 9]\n"
     ]
    }
   ],
   "source": [
    "# 6. Write a Python program to merge two unsorted lists into a single sorted list using the merge sort algorithm.\n",
    "#sol:\n",
    "def merge_sort_merge(left, right):\n",
    "    merged = []\n",
    "    i = 0  # Index for the left list\n",
    "    j = 0  # Index for the right list\n",
    "\n",
    "    # Merge the lists by comparing elements\n",
    "    while i < len(left) and j < len(right):\n",
    "        if left[i] < right[j]:\n",
    "            merged.append(left[i])\n",
    "            i += 1\n",
    "        else:\n",
    "            merged.append(right[j])\n",
    "            j += 1\n",
    "\n",
    "    # Append remaining elements from either list\n",
    "    while i < len(left):\n",
    "        merged.append(left[i])\n",
    "        i += 1\n",
    "\n",
    "    while j < len(right):\n",
    "        merged.append(right[j])\n",
    "        j += 1\n",
    "\n",
    "    return merged\n",
    "\n",
    "def merge_sort(lst):\n",
    "    if len(lst) <= 1:\n",
    "        return lst\n",
    "\n",
    "    mid = len(lst) // 2\n",
    "    left = lst[:mid]\n",
    "    right = lst[mid:]\n",
    "\n",
    "    left = merge_sort(left)\n",
    "    right = merge_sort(right)\n",
    "\n",
    "    return merge_sort_merge(left, right)\n",
    "\n",
    "# Example usage\n",
    "list1 = [9, 5, 3, 1]\n",
    "list2 = [8, 4, 2, 6]\n",
    "merged_list = merge_sort(list1 + list2)\n",
    "print(merged_list)\n"
   ]
  },
  {
   "cell_type": "code",
   "execution_count": 10,
   "metadata": {},
   "outputs": [
    {
     "name": "stdout",
     "output_type": "stream",
     "text": [
      "12\n"
     ]
    }
   ],
   "source": [
    "# 7. Write a Python program to find the GCD (Greatest Common Divisor) of two numbers.\n",
    "#Sol:\n",
    "def Gcd(num1,num2):\n",
    "    while num2!=0:\n",
    "        num1,num2 = num2,num1%num2\n",
    "    return num1\n",
    "print(Gcd(36,48))"
   ]
  },
  {
   "cell_type": "code",
   "execution_count": 12,
   "metadata": {},
   "outputs": [
    {
     "name": "stdout",
     "output_type": "stream",
     "text": [
      "The second-largest element is: 8\n"
     ]
    }
   ],
   "source": [
    "# 8. Write a Python program to find the second-largest element in a list.\n",
    "#Sol:\n",
    "def find_second_largest(numbers):\n",
    "    if len(numbers) < 2:\n",
    "        return None\n",
    "\n",
    "    largest = float('-inf')  # Initialize with negative infinity\n",
    "    second_largest = float('-inf')  # Initialize with negative infinity\n",
    "\n",
    "    for num in numbers:\n",
    "        if num > largest:\n",
    "            second_largest = largest\n",
    "            largest = num\n",
    "        elif num > second_largest and num != largest:\n",
    "            second_largest = num\n",
    "\n",
    "    if second_largest == float('-inf'):\n",
    "        return None\n",
    "    else:\n",
    "        return second_largest\n",
    "\n",
    "# Example usage\n",
    "num_list = [5, 2, 8, 12, 3]\n",
    "second_largest = find_second_largest(num_list)\n",
    "\n",
    "if second_largest is not None:\n",
    "    print(f\"The second-largest element is: {second_largest}\")\n",
    "else:\n",
    "    print(\"The list does not have a second-largest element.\")\n"
   ]
  },
  {
   "cell_type": "code",
   "execution_count": 14,
   "metadata": {},
   "outputs": [
    {
     "name": "stdout",
     "output_type": "stream",
     "text": [
      "The longest common subsequence is: GGTAB\n"
     ]
    }
   ],
   "source": [
    "# 9. Write a Python program to find the longest common subsequence between two strings using dynamic programming.\n",
    "#Sol:\n",
    "def longest_common_subsequence(str1, str2):\n",
    "    m = len(str1)\n",
    "    n = len(str2)\n",
    "\n",
    "    # Initialize a 2D matrix with zeros\n",
    "    dp = [[0] * (n + 1) for _ in range(m + 1)]\n",
    "\n",
    "    # Fill the matrix using dynamic programming\n",
    "    for i in range(1, m + 1):\n",
    "        for j in range(1, n + 1):\n",
    "            if str1[i - 1] == str2[j - 1]:\n",
    "                dp[i][j] = dp[i - 1][j - 1] + 1\n",
    "            else:\n",
    "                dp[i][j] = max(dp[i - 1][j], dp[i][j - 1])\n",
    "\n",
    "    # Construct the longest common subsequence\n",
    "    lcs = \"\"\n",
    "    i, j = m, n\n",
    "    while i > 0 and j > 0:\n",
    "        if str1[i - 1] == str2[j - 1]:\n",
    "            lcs = str1[i - 1] + lcs\n",
    "            i -= 1\n",
    "            j -= 1\n",
    "        elif dp[i - 1][j] > dp[i][j - 1]:\n",
    "            i -= 1\n",
    "        else:\n",
    "            j -= 1\n",
    "\n",
    "    return lcs\n",
    "\n",
    "# Example usage\n",
    "string1 = \"AGGTAB\"\n",
    "string2 = \"GXTGTABY\"\n",
    "\n",
    "lcs = longest_common_subsequence(string1, string2)\n",
    "print(f\"The longest common subsequence is: {lcs}\")\n",
    "\n",
    "\n"
   ]
  }
 ],
 "metadata": {
  "kernelspec": {
   "display_name": "Python 3",
   "language": "python",
   "name": "python3"
  },
  "language_info": {
   "codemirror_mode": {
    "name": "ipython",
    "version": 3
   },
   "file_extension": ".py",
   "mimetype": "text/x-python",
   "name": "python",
   "nbconvert_exporter": "python",
   "pygments_lexer": "ipython3",
   "version": "3.11.4"
  },
  "orig_nbformat": 4
 },
 "nbformat": 4,
 "nbformat_minor": 2
}
